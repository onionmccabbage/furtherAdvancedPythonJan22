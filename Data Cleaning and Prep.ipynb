{
 "cells": [
  {
   "cell_type": "markdown",
   "id": "79b6e1d2",
   "metadata": {},
   "source": [
    "## Preparing and Cleaning Data"
   ]
  },
  {
   "cell_type": "code",
   "execution_count": 2,
   "id": "e4ef1565",
   "metadata": {},
   "outputs": [],
   "source": [
    "import pandas as pd\n",
    "import numpy as np"
   ]
  },
  {
   "cell_type": "code",
   "execution_count": 3,
   "id": "2aecd299",
   "metadata": {},
   "outputs": [
    {
     "data": {
      "text/plain": [
       "0    new Value\n",
       "1          BBB\n",
       "2    new Value\n",
       "3          DDD\n",
       "dtype: object"
      ]
     },
     "execution_count": 3,
     "metadata": {},
     "output_type": "execute_result"
    }
   ],
   "source": [
    "y = pd.Series(['AAA', 'BBB', np.nan, 'DDD'])\n",
    "y.isnull()\n",
    "\n",
    "y[0] = None\n",
    "y.notnull()\n",
    "y.fillna('new Value') # we can replace values with our own alternatives"
   ]
  },
  {
   "cell_type": "markdown",
   "id": "1533eada",
   "metadata": {},
   "source": [
    "## filter out missing data"
   ]
  },
  {
   "cell_type": "code",
   "execution_count": 4,
   "id": "84bdde97",
   "metadata": {},
   "outputs": [
    {
     "data": {
      "text/plain": [
       "1    BBB\n",
       "3    DDD\n",
       "dtype: object"
      ]
     },
     "execution_count": 4,
     "metadata": {},
     "output_type": "execute_result"
    }
   ],
   "source": [
    "x = y.dropna() # any NaN or None values are removed from the output (does not persist)\n",
    "x"
   ]
  },
  {
   "cell_type": "code",
   "execution_count": 5,
   "id": "59c7e8f5",
   "metadata": {},
   "outputs": [
    {
     "data": {
      "text/plain": [
       "1    BBB\n",
       "3    DDD\n",
       "dtype: object"
      ]
     },
     "execution_count": 5,
     "metadata": {},
     "output_type": "execute_result"
    }
   ],
   "source": [
    "# we CAN force the changes to persist\n",
    "y.dropna(inplace=True) # the changes persist in the original structure\n",
    "y"
   ]
  },
  {
   "cell_type": "markdown",
   "id": "dc0be137",
   "metadata": {},
   "source": [
    "## Fill in missing values"
   ]
  },
  {
   "cell_type": "code",
   "execution_count": 6,
   "id": "365710e7",
   "metadata": {},
   "outputs": [
    {
     "data": {
      "text/html": [
       "<div>\n",
       "<style scoped>\n",
       "    .dataframe tbody tr th:only-of-type {\n",
       "        vertical-align: middle;\n",
       "    }\n",
       "\n",
       "    .dataframe tbody tr th {\n",
       "        vertical-align: top;\n",
       "    }\n",
       "\n",
       "    .dataframe thead th {\n",
       "        text-align: right;\n",
       "    }\n",
       "</style>\n",
       "<table border=\"1\" class=\"dataframe\">\n",
       "  <thead>\n",
       "    <tr style=\"text-align: right;\">\n",
       "      <th></th>\n",
       "      <th>0</th>\n",
       "      <th>1</th>\n",
       "      <th>2</th>\n",
       "    </tr>\n",
       "  </thead>\n",
       "  <tbody>\n",
       "    <tr>\n",
       "      <th>0</th>\n",
       "      <td>0.086845</td>\n",
       "      <td>NaN</td>\n",
       "      <td>NaN</td>\n",
       "    </tr>\n",
       "    <tr>\n",
       "      <th>1</th>\n",
       "      <td>-0.622869</td>\n",
       "      <td>NaN</td>\n",
       "      <td>NaN</td>\n",
       "    </tr>\n",
       "    <tr>\n",
       "      <th>2</th>\n",
       "      <td>1.337677</td>\n",
       "      <td>NaN</td>\n",
       "      <td>-1.122171</td>\n",
       "    </tr>\n",
       "    <tr>\n",
       "      <th>3</th>\n",
       "      <td>0.685790</td>\n",
       "      <td>NaN</td>\n",
       "      <td>-1.104984</td>\n",
       "    </tr>\n",
       "    <tr>\n",
       "      <th>4</th>\n",
       "      <td>-0.501641</td>\n",
       "      <td>1.662722</td>\n",
       "      <td>0.792110</td>\n",
       "    </tr>\n",
       "    <tr>\n",
       "      <th>5</th>\n",
       "      <td>-0.778673</td>\n",
       "      <td>0.223735</td>\n",
       "      <td>-1.205799</td>\n",
       "    </tr>\n",
       "    <tr>\n",
       "      <th>6</th>\n",
       "      <td>0.207638</td>\n",
       "      <td>0.521814</td>\n",
       "      <td>0.097609</td>\n",
       "    </tr>\n",
       "    <tr>\n",
       "      <th>7</th>\n",
       "      <td>1.161060</td>\n",
       "      <td>-1.050059</td>\n",
       "      <td>-1.038567</td>\n",
       "    </tr>\n",
       "    <tr>\n",
       "      <th>8</th>\n",
       "      <td>-1.716007</td>\n",
       "      <td>0.663114</td>\n",
       "      <td>0.840458</td>\n",
       "    </tr>\n",
       "    <tr>\n",
       "      <th>9</th>\n",
       "      <td>0.275532</td>\n",
       "      <td>-0.132647</td>\n",
       "      <td>-0.493808</td>\n",
       "    </tr>\n",
       "  </tbody>\n",
       "</table>\n",
       "</div>"
      ],
      "text/plain": [
       "          0         1         2\n",
       "0  0.086845       NaN       NaN\n",
       "1 -0.622869       NaN       NaN\n",
       "2  1.337677       NaN -1.122171\n",
       "3  0.685790       NaN -1.104984\n",
       "4 -0.501641  1.662722  0.792110\n",
       "5 -0.778673  0.223735 -1.205799\n",
       "6  0.207638  0.521814  0.097609\n",
       "7  1.161060 -1.050059 -1.038567\n",
       "8 -1.716007  0.663114  0.840458\n",
       "9  0.275532 -0.132647 -0.493808"
      ]
     },
     "execution_count": 6,
     "metadata": {},
     "output_type": "execute_result"
    }
   ],
   "source": [
    "# simple series to work with\n",
    "df = pd.DataFrame(np.random.randn(10,3))\n",
    "# inject some missing values\n",
    "df.iloc[:4,1] = np.nan\n",
    "df.iloc[:2,2] = np.nan\n",
    "df"
   ]
  },
  {
   "cell_type": "code",
   "execution_count": 17,
   "id": "6c19017f",
   "metadata": {},
   "outputs": [
    {
     "data": {
      "text/html": [
       "<div>\n",
       "<style scoped>\n",
       "    .dataframe tbody tr th:only-of-type {\n",
       "        vertical-align: middle;\n",
       "    }\n",
       "\n",
       "    .dataframe tbody tr th {\n",
       "        vertical-align: top;\n",
       "    }\n",
       "\n",
       "    .dataframe thead th {\n",
       "        text-align: right;\n",
       "    }\n",
       "</style>\n",
       "<table border=\"1\" class=\"dataframe\">\n",
       "  <thead>\n",
       "    <tr style=\"text-align: right;\">\n",
       "      <th></th>\n",
       "      <th>0</th>\n",
       "      <th>1</th>\n",
       "      <th>2</th>\n",
       "    </tr>\n",
       "  </thead>\n",
       "  <tbody>\n",
       "    <tr>\n",
       "      <th>0</th>\n",
       "      <td>0.086845</td>\n",
       "      <td>0.314780</td>\n",
       "      <td>-0.404394</td>\n",
       "    </tr>\n",
       "    <tr>\n",
       "      <th>1</th>\n",
       "      <td>-0.622869</td>\n",
       "      <td>0.314780</td>\n",
       "      <td>-0.404394</td>\n",
       "    </tr>\n",
       "    <tr>\n",
       "      <th>2</th>\n",
       "      <td>1.337677</td>\n",
       "      <td>0.314780</td>\n",
       "      <td>-1.122171</td>\n",
       "    </tr>\n",
       "    <tr>\n",
       "      <th>3</th>\n",
       "      <td>0.685790</td>\n",
       "      <td>0.314780</td>\n",
       "      <td>-1.104984</td>\n",
       "    </tr>\n",
       "    <tr>\n",
       "      <th>4</th>\n",
       "      <td>-0.501641</td>\n",
       "      <td>1.662722</td>\n",
       "      <td>0.792110</td>\n",
       "    </tr>\n",
       "    <tr>\n",
       "      <th>5</th>\n",
       "      <td>-0.778673</td>\n",
       "      <td>0.223735</td>\n",
       "      <td>-1.205799</td>\n",
       "    </tr>\n",
       "    <tr>\n",
       "      <th>6</th>\n",
       "      <td>0.207638</td>\n",
       "      <td>0.521814</td>\n",
       "      <td>0.097609</td>\n",
       "    </tr>\n",
       "    <tr>\n",
       "      <th>7</th>\n",
       "      <td>1.161060</td>\n",
       "      <td>-1.050059</td>\n",
       "      <td>-1.038567</td>\n",
       "    </tr>\n",
       "    <tr>\n",
       "      <th>8</th>\n",
       "      <td>-1.716007</td>\n",
       "      <td>0.663114</td>\n",
       "      <td>0.840458</td>\n",
       "    </tr>\n",
       "    <tr>\n",
       "      <th>9</th>\n",
       "      <td>0.275532</td>\n",
       "      <td>-0.132647</td>\n",
       "      <td>-0.493808</td>\n",
       "    </tr>\n",
       "  </tbody>\n",
       "</table>\n",
       "</div>"
      ],
      "text/plain": [
       "          0         1         2\n",
       "0  0.086845  0.314780 -0.404394\n",
       "1 -0.622869  0.314780 -0.404394\n",
       "2  1.337677  0.314780 -1.122171\n",
       "3  0.685790  0.314780 -1.104984\n",
       "4 -0.501641  1.662722  0.792110\n",
       "5 -0.778673  0.223735 -1.205799\n",
       "6  0.207638  0.521814  0.097609\n",
       "7  1.161060 -1.050059 -1.038567\n",
       "8 -1.716007  0.663114  0.840458\n",
       "9  0.275532 -0.132647 -0.493808"
      ]
     },
     "execution_count": 17,
     "metadata": {},
     "output_type": "execute_result"
    }
   ],
   "source": [
    "# various ways to replace NaN missing values\n",
    "df.fillna(method='ffill', axis=1)\n",
    "df.fillna({1:0.5, 2:0.8}) # specify values for each column\n",
    "df.dropna(thresh=2) # remove any row that has an NaN\n",
    "df.fillna(method='ffill',axis=1, limit=1)\n",
    "# typically we interpolate from the other values\n",
    "df.fillna(df.mean()) # fills with the mean of the column, ignoring NaN in the mean calculation"
   ]
  },
  {
   "cell_type": "code",
   "execution_count": null,
   "id": "c81ed1f4",
   "metadata": {},
   "outputs": [],
   "source": []
  },
  {
   "cell_type": "code",
   "execution_count": null,
   "id": "38c70088",
   "metadata": {},
   "outputs": [],
   "source": []
  },
  {
   "cell_type": "code",
   "execution_count": 51,
   "id": "2fb79818",
   "metadata": {},
   "outputs": [
    {
     "data": {
      "text/html": [
       "<div>\n",
       "<style scoped>\n",
       "    .dataframe tbody tr th:only-of-type {\n",
       "        vertical-align: middle;\n",
       "    }\n",
       "\n",
       "    .dataframe tbody tr th {\n",
       "        vertical-align: top;\n",
       "    }\n",
       "\n",
       "    .dataframe thead th {\n",
       "        text-align: right;\n",
       "    }\n",
       "</style>\n",
       "<table border=\"1\" class=\"dataframe\">\n",
       "  <thead>\n",
       "    <tr style=\"text-align: right;\">\n",
       "      <th></th>\n",
       "      <th>0</th>\n",
       "      <th>1</th>\n",
       "      <th>2</th>\n",
       "    </tr>\n",
       "  </thead>\n",
       "  <tbody>\n",
       "    <tr>\n",
       "      <th>0</th>\n",
       "      <td>-0.229359</td>\n",
       "      <td>-0.775926</td>\n",
       "      <td>-0.775926</td>\n",
       "    </tr>\n",
       "    <tr>\n",
       "      <th>1</th>\n",
       "      <td>0.996537</td>\n",
       "      <td>-0.775926</td>\n",
       "      <td>-0.775926</td>\n",
       "    </tr>\n",
       "    <tr>\n",
       "      <th>2</th>\n",
       "      <td>0.940707</td>\n",
       "      <td>-0.775926</td>\n",
       "      <td>-0.350989</td>\n",
       "    </tr>\n",
       "    <tr>\n",
       "      <th>3</th>\n",
       "      <td>-0.707323</td>\n",
       "      <td>-0.775926</td>\n",
       "      <td>-0.240707</td>\n",
       "    </tr>\n",
       "    <tr>\n",
       "      <th>4</th>\n",
       "      <td>-0.050891</td>\n",
       "      <td>-1.438380</td>\n",
       "      <td>-0.978631</td>\n",
       "    </tr>\n",
       "    <tr>\n",
       "      <th>5</th>\n",
       "      <td>0.235573</td>\n",
       "      <td>-0.274778</td>\n",
       "      <td>0.001522</td>\n",
       "    </tr>\n",
       "    <tr>\n",
       "      <th>6</th>\n",
       "      <td>-0.075725</td>\n",
       "      <td>-0.980495</td>\n",
       "      <td>0.293504</td>\n",
       "    </tr>\n",
       "    <tr>\n",
       "      <th>7</th>\n",
       "      <td>-2.125656</td>\n",
       "      <td>-0.636884</td>\n",
       "      <td>-0.200232</td>\n",
       "    </tr>\n",
       "    <tr>\n",
       "      <th>8</th>\n",
       "      <td>-1.960446</td>\n",
       "      <td>-0.007234</td>\n",
       "      <td>-2.719418</td>\n",
       "    </tr>\n",
       "    <tr>\n",
       "      <th>9</th>\n",
       "      <td>1.015953</td>\n",
       "      <td>-1.317787</td>\n",
       "      <td>1.187072</td>\n",
       "    </tr>\n",
       "  </tbody>\n",
       "</table>\n",
       "</div>"
      ],
      "text/plain": [
       "          0         1         2\n",
       "0 -0.229359 -0.775926 -0.775926\n",
       "1  0.996537 -0.775926 -0.775926\n",
       "2  0.940707 -0.775926 -0.350989\n",
       "3 -0.707323 -0.775926 -0.240707\n",
       "4 -0.050891 -1.438380 -0.978631\n",
       "5  0.235573 -0.274778  0.001522\n",
       "6 -0.075725 -0.980495  0.293504\n",
       "7 -2.125656 -0.636884 -0.200232\n",
       "8 -1.960446 -0.007234 -2.719418\n",
       "9  1.015953 -1.317787  1.187072"
      ]
     },
     "execution_count": 51,
     "metadata": {},
     "output_type": "execute_result"
    }
   ],
   "source": [
    "# use fillna\n",
    "c1mean = df.iloc[:, 1].mean()\n",
    "df.fillna(c1mean, inplace=True)\n",
    "df"
   ]
  },
  {
   "cell_type": "markdown",
   "id": "25003f53",
   "metadata": {},
   "source": [
    "## Remove Duplicates"
   ]
  },
  {
   "cell_type": "code",
   "execution_count": 62,
   "id": "55a2f77e",
   "metadata": {},
   "outputs": [
    {
     "data": {
      "text/html": [
       "<div>\n",
       "<style scoped>\n",
       "    .dataframe tbody tr th:only-of-type {\n",
       "        vertical-align: middle;\n",
       "    }\n",
       "\n",
       "    .dataframe tbody tr th {\n",
       "        vertical-align: top;\n",
       "    }\n",
       "\n",
       "    .dataframe thead th {\n",
       "        text-align: right;\n",
       "    }\n",
       "</style>\n",
       "<table border=\"1\" class=\"dataframe\">\n",
       "  <thead>\n",
       "    <tr style=\"text-align: right;\">\n",
       "      <th></th>\n",
       "      <th>A</th>\n",
       "      <th>B</th>\n",
       "    </tr>\n",
       "  </thead>\n",
       "  <tbody>\n",
       "    <tr>\n",
       "      <th>0</th>\n",
       "      <td>I</td>\n",
       "      <td>1</td>\n",
       "    </tr>\n",
       "    <tr>\n",
       "      <th>1</th>\n",
       "      <td>II</td>\n",
       "      <td>2</td>\n",
       "    </tr>\n",
       "    <tr>\n",
       "      <th>2</th>\n",
       "      <td>I</td>\n",
       "      <td>3</td>\n",
       "    </tr>\n",
       "    <tr>\n",
       "      <th>3</th>\n",
       "      <td>II</td>\n",
       "      <td>4</td>\n",
       "    </tr>\n",
       "    <tr>\n",
       "      <th>8</th>\n",
       "      <td>III</td>\n",
       "      <td>3</td>\n",
       "    </tr>\n",
       "  </tbody>\n",
       "</table>\n",
       "</div>"
      ],
      "text/plain": [
       "     A  B\n",
       "0    I  1\n",
       "1   II  2\n",
       "2    I  3\n",
       "3   II  4\n",
       "8  III  3"
      ]
     },
     "execution_count": 62,
     "metadata": {},
     "output_type": "execute_result"
    }
   ],
   "source": [
    "df = pd.DataFrame({\n",
    "    'A': ['I', 'II','I','II','I','II','I','II','III'],\n",
    "    'B': [1,    2,   3,  4,   1,  2,   3,  4,   3]\n",
    "})\n",
    "df.duplicated() # True for any rows which are duplicates of earlier rows\n",
    "df.drop_duplicates(inplace=True)\n",
    "df"
   ]
  },
  {
   "cell_type": "markdown",
   "id": "7d4a0e20",
   "metadata": {},
   "source": [
    "## Replacing Values"
   ]
  },
  {
   "cell_type": "code",
   "execution_count": 63,
   "id": "3755071e",
   "metadata": {},
   "outputs": [
    {
     "data": {
      "text/html": [
       "<div>\n",
       "<style scoped>\n",
       "    .dataframe tbody tr th:only-of-type {\n",
       "        vertical-align: middle;\n",
       "    }\n",
       "\n",
       "    .dataframe tbody tr th {\n",
       "        vertical-align: top;\n",
       "    }\n",
       "\n",
       "    .dataframe thead th {\n",
       "        text-align: right;\n",
       "    }\n",
       "</style>\n",
       "<table border=\"1\" class=\"dataframe\">\n",
       "  <thead>\n",
       "    <tr style=\"text-align: right;\">\n",
       "      <th></th>\n",
       "      <th>A</th>\n",
       "      <th>B</th>\n",
       "    </tr>\n",
       "  </thead>\n",
       "  <tbody>\n",
       "    <tr>\n",
       "      <th>0</th>\n",
       "      <td>I</td>\n",
       "      <td>1</td>\n",
       "    </tr>\n",
       "    <tr>\n",
       "      <th>1</th>\n",
       "      <td>II</td>\n",
       "      <td>2</td>\n",
       "    </tr>\n",
       "    <tr>\n",
       "      <th>2</th>\n",
       "      <td>I</td>\n",
       "      <td>3</td>\n",
       "    </tr>\n",
       "    <tr>\n",
       "      <th>3</th>\n",
       "      <td>II</td>\n",
       "      <td>22</td>\n",
       "    </tr>\n",
       "    <tr>\n",
       "      <th>8</th>\n",
       "      <td>III</td>\n",
       "      <td>3</td>\n",
       "    </tr>\n",
       "  </tbody>\n",
       "</table>\n",
       "</div>"
      ],
      "text/plain": [
       "     A   B\n",
       "0    I   1\n",
       "1   II   2\n",
       "2    I   3\n",
       "3   II  22\n",
       "8  III   3"
      ]
     },
     "execution_count": 63,
     "metadata": {},
     "output_type": "execute_result"
    }
   ],
   "source": [
    "df.replace(4,22, inplace=True)\n",
    "df"
   ]
  },
  {
   "cell_type": "code",
   "execution_count": null,
   "id": "8dfbfd21",
   "metadata": {},
   "outputs": [],
   "source": []
  },
  {
   "cell_type": "code",
   "execution_count": null,
   "id": "cf9ee563",
   "metadata": {},
   "outputs": [],
   "source": []
  },
  {
   "cell_type": "code",
   "execution_count": null,
   "id": "63d53239",
   "metadata": {},
   "outputs": [],
   "source": []
  },
  {
   "cell_type": "code",
   "execution_count": null,
   "id": "36d92bd4",
   "metadata": {},
   "outputs": [],
   "source": []
  },
  {
   "cell_type": "code",
   "execution_count": null,
   "id": "9e1cf3be",
   "metadata": {},
   "outputs": [],
   "source": []
  },
  {
   "cell_type": "code",
   "execution_count": null,
   "id": "62635655",
   "metadata": {},
   "outputs": [],
   "source": []
  }
 ],
 "metadata": {
  "kernelspec": {
   "display_name": "Python 3",
   "language": "python",
   "name": "python3"
  },
  "language_info": {
   "codemirror_mode": {
    "name": "ipython",
    "version": 3
   },
   "file_extension": ".py",
   "mimetype": "text/x-python",
   "name": "python",
   "nbconvert_exporter": "python",
   "pygments_lexer": "ipython3",
   "version": "3.8.8"
  }
 },
 "nbformat": 4,
 "nbformat_minor": 5
}
