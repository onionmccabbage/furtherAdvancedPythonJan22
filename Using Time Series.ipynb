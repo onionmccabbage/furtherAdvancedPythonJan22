{
 "cells": [
  {
   "cell_type": "markdown",
   "id": "79fb6576",
   "metadata": {},
   "source": [
    "## we can work with data points that represent time values"
   ]
  },
  {
   "cell_type": "code",
   "execution_count": 9,
   "id": "23200ffd",
   "metadata": {},
   "outputs": [],
   "source": [
    "import numpy as np\n",
    "import pandas as pd\n",
    "# import datetime\n",
    "from datetime import datetime, time, timedelta"
   ]
  },
  {
   "cell_type": "code",
   "execution_count": 21,
   "id": "fdc9ae94",
   "metadata": {},
   "outputs": [
    {
     "data": {
      "text/plain": [
       "45.397260273972606"
      ]
     },
     "execution_count": 21,
     "metadata": {},
     "output_type": "execute_result"
    }
   ],
   "source": [
    "# datetime.MINYEAR\n",
    "now = datetime.now()\n",
    "now\n",
    "then = datetime(1976, 9, 15) # \n",
    "delta = now-then\n",
    "delta\n",
    "delta.days/365"
   ]
  },
  {
   "cell_type": "code",
   "execution_count": null,
   "id": "5d5aadcd",
   "metadata": {},
   "outputs": [],
   "source": []
  },
  {
   "cell_type": "code",
   "execution_count": null,
   "id": "a9a44bbc",
   "metadata": {},
   "outputs": [],
   "source": []
  },
  {
   "cell_type": "code",
   "execution_count": null,
   "id": "3752d2ce",
   "metadata": {},
   "outputs": [],
   "source": []
  },
  {
   "cell_type": "code",
   "execution_count": null,
   "id": "15c8263a",
   "metadata": {},
   "outputs": [],
   "source": []
  },
  {
   "cell_type": "code",
   "execution_count": null,
   "id": "f07b9afc",
   "metadata": {},
   "outputs": [],
   "source": []
  }
 ],
 "metadata": {
  "kernelspec": {
   "display_name": "Python 3",
   "language": "python",
   "name": "python3"
  },
  "language_info": {
   "codemirror_mode": {
    "name": "ipython",
    "version": 3
   },
   "file_extension": ".py",
   "mimetype": "text/x-python",
   "name": "python",
   "nbconvert_exporter": "python",
   "pygments_lexer": "ipython3",
   "version": "3.8.8"
  }
 },
 "nbformat": 4,
 "nbformat_minor": 5
}
