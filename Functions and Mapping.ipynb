{
 "cells": [
  {
   "cell_type": "markdown",
   "id": "9f342263",
   "metadata": {},
   "source": [
    "## Functions and Mapping"
   ]
  },
  {
   "cell_type": "code",
   "execution_count": null,
   "id": "c1c3db72",
   "metadata": {},
   "outputs": [],
   "source": [
    "import numpy as np\n",
    "import pandas as pd"
   ]
  },
  {
   "cell_type": "code",
   "execution_count": null,
   "id": "b3ba4d03",
   "metadata": {},
   "outputs": [],
   "source": [
    "frame = pd.DataFrame(np.random.randn(4,3), columns=list('bde'), index=['Utah', 'Ohio', 'Texas', 'Oregon'])\n",
    "frame\n",
    "np.abs(frame) # all values are forced to positive"
   ]
  },
  {
   "cell_type": "markdown",
   "id": "5052c5f2",
   "metadata": {},
   "source": [
    "### We can apply a function to members of the data"
   ]
  },
  {
   "cell_type": "code",
   "execution_count": null,
   "id": "5f1e36c1",
   "metadata": {},
   "outputs": [],
   "source": [
    "f = lambda x:x.max()-x.min()\n",
    "frame.apply(f) # we can optionally specify axis='rows' (the default)"
   ]
  },
  {
   "cell_type": "code",
   "execution_count": null,
   "id": "6d5cc599",
   "metadata": {},
   "outputs": [],
   "source": [
    "# apply to columns\n",
    "frame.apply(f, axis='columns') # or axis=1 for columns, 0 for rows"
   ]
  },
  {
   "cell_type": "code",
   "execution_count": null,
   "id": "12be6d41",
   "metadata": {},
   "outputs": [],
   "source": [
    "def f(x):\n",
    "    return pd.Series([x.min(), x.max()],index=['min', 'max'])\n",
    "frame.apply(f)"
   ]
  },
  {
   "cell_type": "markdown",
   "id": "61b17409",
   "metadata": {},
   "source": [
    "### Using Functions to Format output"
   ]
  },
  {
   "cell_type": "code",
   "execution_count": null,
   "id": "17936664",
   "metadata": {},
   "outputs": [],
   "source": [
    "format = lambda x: '%.2f' %x\n",
    "frame.applymap(format)"
   ]
  },
  {
   "cell_type": "code",
   "execution_count": null,
   "id": "063c3196",
   "metadata": {},
   "outputs": [],
   "source": [
    "# we can apply a map to selected data members\n",
    "frame['e'].map(format)"
   ]
  },
  {
   "cell_type": "markdown",
   "id": "5b21cdbf",
   "metadata": {},
   "source": [
    "## Sorting and Ranking Data"
   ]
  },
  {
   "cell_type": "code",
   "execution_count": null,
   "id": "3a9508b0",
   "metadata": {},
   "outputs": [],
   "source": [
    "obj = pd.Series(range(4), index=['d', 'a', 'b', 'c'])\n",
    "obj.sort_index()"
   ]
  },
  {
   "cell_type": "code",
   "execution_count": null,
   "id": "997602ea",
   "metadata": {},
   "outputs": [],
   "source": [
    "frame = pd.DataFrame(np.arange(8).reshape((2, 4)),\n",
    "                     index=['three', 'one'],\n",
    "                     columns=['d', 'a', 'b', 'c'])\n",
    "frame.sort_index(axis=1, ascending=False) # or axis='columns'"
   ]
  },
  {
   "cell_type": "code",
   "execution_count": null,
   "id": "c6139425",
   "metadata": {},
   "outputs": [],
   "source": [
    "obj.sort_values() # values within a single series can be sorted"
   ]
  },
  {
   "cell_type": "code",
   "execution_count": null,
   "id": "c43fd609",
   "metadata": {},
   "outputs": [],
   "source": [
    "frame.sort_values(by=['b', 'a'], ascending=False)"
   ]
  },
  {
   "cell_type": "code",
   "execution_count": 65,
   "id": "39b51942",
   "metadata": {},
   "outputs": [
    {
     "data": {
      "text/plain": [
       "0    7\n",
       "1   -5\n",
       "2    7\n",
       "3    4\n",
       "4    2\n",
       "5    0\n",
       "6    4\n",
       "7    4\n",
       "dtype: int64"
      ]
     },
     "execution_count": 65,
     "metadata": {},
     "output_type": "execute_result"
    }
   ],
   "source": [
    "# ranking data\n",
    "obj = pd.Series([7, -5, 7, 4, 2, 0, 4, 4])\n",
    "obj"
   ]
  },
  {
   "cell_type": "code",
   "execution_count": 66,
   "id": "6ab247dd",
   "metadata": {},
   "outputs": [
    {
     "data": {
      "text/plain": [
       "0    7.5\n",
       "1    1.0\n",
       "2    7.5\n",
       "3    5.0\n",
       "4    3.0\n",
       "5    2.0\n",
       "6    5.0\n",
       "7    5.0\n",
       "dtype: float64"
      ]
     },
     "execution_count": 66,
     "metadata": {},
     "output_type": "execute_result"
    }
   ],
   "source": [
    "obj.rank() # tell the order of values, accounting for their frequency"
   ]
  },
  {
   "cell_type": "code",
   "execution_count": 69,
   "id": "957a211e",
   "metadata": {},
   "outputs": [
    {
     "data": {
      "text/plain": [
       "0    7.0\n",
       "1    1.0\n",
       "2    8.0\n",
       "3    4.0\n",
       "4    3.0\n",
       "5    2.0\n",
       "6    5.0\n",
       "7    6.0\n",
       "dtype: float64"
      ]
     },
     "execution_count": 69,
     "metadata": {},
     "output_type": "execute_result"
    }
   ],
   "source": [
    "obj.rank(method='first')"
   ]
  },
  {
   "cell_type": "code",
   "execution_count": 71,
   "id": "dda408c4",
   "metadata": {},
   "outputs": [
    {
     "data": {
      "text/plain": [
       "0    2.0\n",
       "1    8.0\n",
       "2    2.0\n",
       "3    5.0\n",
       "4    6.0\n",
       "5    7.0\n",
       "6    5.0\n",
       "7    5.0\n",
       "dtype: float64"
      ]
     },
     "execution_count": 71,
     "metadata": {},
     "output_type": "execute_result"
    }
   ],
   "source": [
    "# assign values as we rank\n",
    "obj.rank(ascending=False, method='max')"
   ]
  },
  {
   "cell_type": "code",
   "execution_count": 74,
   "id": "cecfb02e",
   "metadata": {},
   "outputs": [
    {
     "data": {
      "text/html": [
       "<div>\n",
       "<style scoped>\n",
       "    .dataframe tbody tr th:only-of-type {\n",
       "        vertical-align: middle;\n",
       "    }\n",
       "\n",
       "    .dataframe tbody tr th {\n",
       "        vertical-align: top;\n",
       "    }\n",
       "\n",
       "    .dataframe thead th {\n",
       "        text-align: right;\n",
       "    }\n",
       "</style>\n",
       "<table border=\"1\" class=\"dataframe\">\n",
       "  <thead>\n",
       "    <tr style=\"text-align: right;\">\n",
       "      <th></th>\n",
       "      <th>d</th>\n",
       "      <th>a</th>\n",
       "      <th>b</th>\n",
       "      <th>c</th>\n",
       "    </tr>\n",
       "  </thead>\n",
       "  <tbody>\n",
       "    <tr>\n",
       "      <th>three</th>\n",
       "      <td>1.0</td>\n",
       "      <td>2.0</td>\n",
       "      <td>3.0</td>\n",
       "      <td>4.0</td>\n",
       "    </tr>\n",
       "    <tr>\n",
       "      <th>one</th>\n",
       "      <td>1.0</td>\n",
       "      <td>2.0</td>\n",
       "      <td>3.0</td>\n",
       "      <td>4.0</td>\n",
       "    </tr>\n",
       "  </tbody>\n",
       "</table>\n",
       "</div>"
      ],
      "text/plain": [
       "         d    a    b    c\n",
       "three  1.0  2.0  3.0  4.0\n",
       "one    1.0  2.0  3.0  4.0"
      ]
     },
     "execution_count": 74,
     "metadata": {},
     "output_type": "execute_result"
    }
   ],
   "source": [
    "frame.rank(axis=1) # 1 for columns (default is rows)"
   ]
  },
  {
   "cell_type": "code",
   "execution_count": null,
   "id": "00c03fe3",
   "metadata": {},
   "outputs": [],
   "source": []
  },
  {
   "cell_type": "code",
   "execution_count": null,
   "id": "e0545802",
   "metadata": {},
   "outputs": [],
   "source": []
  }
 ],
 "metadata": {
  "kernelspec": {
   "display_name": "Python 3",
   "language": "python",
   "name": "python3"
  },
  "language_info": {
   "codemirror_mode": {
    "name": "ipython",
    "version": 3
   },
   "file_extension": ".py",
   "mimetype": "text/x-python",
   "name": "python",
   "nbconvert_exporter": "python",
   "pygments_lexer": "ipython3",
   "version": "3.8.8"
  }
 },
 "nbformat": 4,
 "nbformat_minor": 5
}
