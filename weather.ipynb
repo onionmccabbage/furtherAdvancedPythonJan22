{
 "cells": [
  {
   "cell_type": "code",
   "execution_count": 1,
   "id": "9ffaecad",
   "metadata": {},
   "outputs": [],
   "source": [
    "from threading import Thread\n",
    "import json\n",
    "from urllib.request import urlopen\n",
    "import time"
   ]
  },
  {
   "cell_type": "code",
   "execution_count": 7,
   "id": "350ab9c5",
   "metadata": {},
   "outputs": [],
   "source": [
    "class TempGetter(Thread):\n",
    "    def __init__(self, city):\n",
    "        \"\"\"\n",
    "        The __init__ method initializes the TempGetter class\n",
    "        Takes a 'city' parameter\n",
    "        \"\"\"\n",
    "        super().__init__()\n",
    "        self.city = city\n",
    "        self.temperature = -99\n",
    "\n",
    "    def run(self):\n",
    "        \"\"\"\n",
    "        The run method is invoked when this class is the target of a thread\n",
    "        \"\"\"\n",
    "        url_template = (\n",
    "            'http://api.openweathermap.org/data/2.5/'\n",
    "            'weather?q={}&units=metric&APPID=48f2d5e18b0d2bc50519b58cce6409f1')\n",
    "        response = urlopen(url_template.format(self.city))\n",
    "        data = json.loads(response.read().decode())\n",
    "        self.temperature = data['main']['temp']\n",
    "\n",
    "def getWeather(cities=['paris']):\n",
    "    \"\"\"\n",
    "    the getWeather method takes a list of cities and returns the temperature for each city.\n",
    "\n",
    "    \"\"\"\n",
    "    threads = [TempGetter(c) for c in cities]\n",
    "    start = time.time()\n",
    "    for thread in threads:\n",
    "        thread.start()\n",
    "\n",
    "    for thread in threads:\n",
    "        thread.join()\n",
    "\n",
    "    for thread in threads:\n",
    "        return (thread.temperature)"
   ]
  },
  {
   "cell_type": "code",
   "execution_count": 8,
   "id": "8f781706",
   "metadata": {},
   "outputs": [
    {
     "data": {
      "text/plain": [
       "6.34"
      ]
     },
     "execution_count": 8,
     "metadata": {},
     "output_type": "execute_result"
    }
   ],
   "source": [
    "x = getWeather()\n",
    "x"
   ]
  },
  {
   "cell_type": "code",
   "execution_count": null,
   "id": "0dbbd62f",
   "metadata": {},
   "outputs": [],
   "source": []
  }
 ],
 "metadata": {
  "kernelspec": {
   "display_name": "Python 3",
   "language": "python",
   "name": "python3"
  },
  "language_info": {
   "codemirror_mode": {
    "name": "ipython",
    "version": 3
   },
   "file_extension": ".py",
   "mimetype": "text/x-python",
   "name": "python",
   "nbconvert_exporter": "python",
   "pygments_lexer": "ipython3",
   "version": "3.8.8"
  }
 },
 "nbformat": 4,
 "nbformat_minor": 5
}
